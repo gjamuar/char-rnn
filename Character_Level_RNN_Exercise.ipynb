{
 "cells": [
  {
   "cell_type": "markdown",
   "metadata": {},
   "source": [
    "# Character-Level LSTM in PyTorch\n",
    "\n",
    "In this notebook, I'll construct a character-level LSTM with PyTorch. The network will train character by character on some text, then generate new text character by character. As an example, I will train on Anna Karenina. **This model will be able to generate new text based on the text from the book!**\n",
    "\n",
    "This network is based off of Andrej Karpathy's [post on RNNs](http://karpathy.github.io/2015/05/21/rnn-effectiveness/) and [implementation in Torch](https://github.com/karpathy/char-rnn). Below is the general architecture of the character-wise RNN.\n",
    "\n",
    "<img src=\"assets/charseq.jpeg\" width=\"500\">"
   ]
  },
  {
   "cell_type": "markdown",
   "metadata": {},
   "source": [
    "First let's load in our required resources for data loading and model creation."
   ]
  },
  {
   "cell_type": "code",
   "execution_count": 1,
   "metadata": {},
   "outputs": [],
   "source": [
    "import numpy as np\n",
    "import torch\n",
    "from torch import nn\n",
    "import torch.nn.functional as F"
   ]
  },
  {
   "cell_type": "markdown",
   "metadata": {},
   "source": [
    "## Load in Data\n",
    "\n",
    "Then, we'll load the Anna Karenina text file and convert it into integers for our network to use. "
   ]
  },
  {
   "cell_type": "code",
   "execution_count": 2,
   "metadata": {},
   "outputs": [],
   "source": [
    "# open text file and read in data as `text`\n",
    "with open('data/anna.txt', 'r') as f:\n",
    "    text = f.read()"
   ]
  },
  {
   "cell_type": "markdown",
   "metadata": {},
   "source": [
    "Let's check out the first 100 characters, make sure everything is peachy. According to the [American Book Review](http://americanbookreview.org/100bestlines.asp), this is the 6th best first line of a book ever."
   ]
  },
  {
   "cell_type": "code",
   "execution_count": 3,
   "metadata": {},
   "outputs": [
    {
     "data": {
      "text/plain": [
       "'Chapter 1\\n\\n\\nHappy families are all alike; every unhappy family is unhappy in its own\\nway.\\n\\nEverythin'"
      ]
     },
     "execution_count": 3,
     "metadata": {},
     "output_type": "execute_result"
    }
   ],
   "source": [
    "text[:100]"
   ]
  },
  {
   "cell_type": "markdown",
   "metadata": {},
   "source": [
    "### Tokenization\n",
    "\n",
    "In the cells, below, I'm creating a couple **dictionaries** to convert the characters to and from integers. Encoding the characters as integers makes it easier to use as input in the network."
   ]
  },
  {
   "cell_type": "code",
   "execution_count": 4,
   "metadata": {},
   "outputs": [
    {
     "name": "stdout",
     "output_type": "stream",
     "text": [
      "{0: '_', 1: 'B', 2: 'R', 3: 'X', 4: 'A', 5: '!', 6: '.', 7: 'q', 8: '&', 9: 'i', 10: 'n', 11: 'g', 12: 'b', 13: ':', 14: 'z', 15: '%', 16: 'k', 17: '8', 18: 'Y', 19: '?', 20: 'y', 21: 'r', 22: 'u', 23: 'E', 24: 'f', 25: '\\n', 26: 'l', 27: 'G', 28: '6', 29: 'J', 30: 'Q', 31: 'P', 32: 'h', 33: 'D', 34: 'C', 35: ';', 36: 'L', 37: '(', 38: '3', 39: '-', 40: 'Z', 41: 'p', 42: 'O', 43: '7', 44: '9', 45: \"'\", 46: '0', 47: 's', 48: '\"', 49: 'o', 50: '`', 51: '@', 52: '/', 53: '*', 54: ' ', 55: '4', 56: 'e', 57: 'a', 58: 'd', 59: 'm', 60: 'H', 61: 'w', 62: 'F', 63: ',', 64: 'j', 65: '$', 66: 'c', 67: 't', 68: 'V', 69: 'I', 70: 'x', 71: ')', 72: '1', 73: 'T', 74: 'S', 75: 'W', 76: 'K', 77: '5', 78: 'U', 79: 'M', 80: 'v', 81: 'N', 82: '2'}\n"
     ]
    }
   ],
   "source": [
    "print(dict(enumerate((tuple(set(text))))))"
   ]
  },
  {
   "cell_type": "code",
   "execution_count": 5,
   "metadata": {},
   "outputs": [
    {
     "name": "stdout",
     "output_type": "stream",
     "text": [
      "{'_': 0, 'B': 1, 'R': 2, 'X': 3, 'A': 4, '!': 5, '.': 6, 'q': 7, '&': 8, 'i': 9, 'n': 10, 'g': 11, 'b': 12, ':': 13, 'z': 14, '%': 15, 'k': 16, '8': 17, 'Y': 18, '?': 19, 'y': 20, 'r': 21, 'u': 22, 'E': 23, 'f': 24, '\\n': 25, 'l': 26, 'G': 27, '6': 28, 'J': 29, 'Q': 30, 'P': 31, 'h': 32, 'D': 33, 'C': 34, ';': 35, 'L': 36, '(': 37, '3': 38, '-': 39, 'Z': 40, 'p': 41, 'O': 42, '7': 43, '9': 44, \"'\": 45, '0': 46, 's': 47, '\"': 48, 'o': 49, '`': 50, '@': 51, '/': 52, '*': 53, ' ': 54, '4': 55, 'e': 56, 'a': 57, 'd': 58, 'm': 59, 'H': 60, 'w': 61, 'F': 62, ',': 63, 'j': 64, '$': 65, 'c': 66, 't': 67, 'V': 68, 'I': 69, 'x': 70, ')': 71, '1': 72, 'T': 73, 'S': 74, 'W': 75, 'K': 76, '5': 77, 'U': 78, 'M': 79, 'v': 80, 'N': 81, '2': 82}\n"
     ]
    }
   ],
   "source": [
    "# encode the text and map each character to an integer and vice versa\n",
    "\n",
    "# we create two dictionaries:\n",
    "# 1. int2char, which maps integers to characters\n",
    "# 2. char2int, which maps characters to unique integers\n",
    "chars = tuple(set(text))\n",
    "int2char = dict(enumerate(chars))\n",
    "char2int = {ch: ii for ii, ch in int2char.items()}\n",
    "print(char2int)\n",
    "# encode the text\n",
    "encoded = np.array([char2int[ch] for ch in text])"
   ]
  },
  {
   "cell_type": "markdown",
   "metadata": {},
   "source": [
    "And we can see those same characters from above, encoded as integers."
   ]
  },
  {
   "cell_type": "code",
   "execution_count": 6,
   "metadata": {},
   "outputs": [
    {
     "data": {
      "text/plain": [
       "array([34, 32, 57, 41, 67, 56, 21, 54, 72, 25, 25, 25, 60, 57, 41, 41, 20,\n",
       "       54, 24, 57, 59,  9, 26,  9, 56, 47, 54, 57, 21, 56, 54, 57, 26, 26,\n",
       "       54, 57, 26,  9, 16, 56, 35, 54, 56, 80, 56, 21, 20, 54, 22, 10, 32,\n",
       "       57, 41, 41, 20, 54, 24, 57, 59,  9, 26, 20, 54,  9, 47, 54, 22, 10,\n",
       "       32, 57, 41, 41, 20, 54,  9, 10, 54,  9, 67, 47, 54, 49, 61, 10, 25,\n",
       "       61, 57, 20,  6, 25, 25, 23, 80, 56, 21, 20, 67, 32,  9, 10])"
      ]
     },
     "execution_count": 6,
     "metadata": {},
     "output_type": "execute_result"
    }
   ],
   "source": [
    "encoded[:100]"
   ]
  },
  {
   "cell_type": "markdown",
   "metadata": {},
   "source": [
    "## Pre-processing the data\n",
    "\n",
    "As you can see in our char-RNN image above, our LSTM expects an input that is **one-hot encoded** meaning that each character is converted into an integer (via our created dictionary) and *then* converted into a column vector where only it's corresponding integer index will have the value of 1 and the rest of the vector will be filled with 0's. Since we're one-hot encoding the data, let's make a function to do that!\n"
   ]
  },
  {
   "cell_type": "code",
   "execution_count": 7,
   "metadata": {},
   "outputs": [],
   "source": [
    "def one_hot_encode(arr, n_labels):\n",
    "#     print(arr.shape)\n",
    "    # Initialize the the encoded array\n",
    "    one_hot = np.zeros((np.multiply(*arr.shape), n_labels), dtype=np.float32)\n",
    "    #print(one_hot)\n",
    "    # Fill the appropriate elements with ones\n",
    "#     print(np.arange(one_hot.shape[0]))\n",
    "#     print(arr.flatten())\n",
    "#     print(one_hot[np.arange(one_hot.shape[0]), arr.flatten()])\n",
    "    one_hot[np.arange(one_hot.shape[0]), arr.flatten()] = 1.\n",
    "    #print(one_hot)\n",
    "    # Finally reshape it to get back to the original array\n",
    "    one_hot = one_hot.reshape((*arr.shape, n_labels))\n",
    "    \n",
    "    return one_hot"
   ]
  },
  {
   "cell_type": "code",
   "execution_count": 8,
   "metadata": {},
   "outputs": [
    {
     "name": "stdout",
     "output_type": "stream",
     "text": [
      "[[[0. 0. 0. 1. 0. 0. 0. 0.]\n",
      "  [0. 0. 0. 0. 0. 1. 0. 0.]\n",
      "  [0. 1. 0. 0. 0. 0. 0. 0.]]]\n"
     ]
    }
   ],
   "source": [
    "# check that the function works as expected\n",
    "test_seq = np.array([[3, 5, 1]])\n",
    "one_hot = one_hot_encode(test_seq, 8)\n",
    "\n",
    "print(one_hot)"
   ]
  },
  {
   "cell_type": "markdown",
   "metadata": {},
   "source": [
    "## Making training mini-batches\n",
    "\n",
    "\n",
    "To train on this data, we also want to create mini-batches for training. Remember that we want our batches to be multiple sequences of some desired number of sequence steps. Considering a simple example, our batches would look like this:\n",
    "\n",
    "<img src=\"assets/sequence_batching@1x.png\" width=500px>\n",
    "\n",
    "\n",
    "<br>\n",
    "\n",
    "In this example, we'll take the encoded characters (passed in as the `arr` parameter) and split them into multiple sequences, given by `batch_size`. Each of our sequences will be `seq_length` long.\n",
    "\n",
    "### Creating Batches\n",
    "\n",
    "**1. The first thing we need to do is discard some of the text so we only have completely full mini-batches. **\n",
    "\n",
    "Each batch contains $N \\times M$ characters, where $N$ is the batch size (the number of sequences in a batch) and $M$ is the seq_length or number of time steps in a sequence. Then, to get the total number of batches, $K$, that we can make from the array `arr`, you divide the length of `arr` by the number of characters per batch. Once you know the number of batches, you can get the total number of characters to keep from `arr`, $N * M * K$.\n",
    "\n",
    "**2. After that, we need to split `arr` into $N$ batches. ** \n",
    "\n",
    "You can do this using `arr.reshape(size)` where `size` is a tuple containing the dimensions sizes of the reshaped array. We know we want $N$ sequences in a batch, so let's make that the size of the first dimension. For the second dimension, you can use `-1` as a placeholder in the size, it'll fill up the array with the appropriate data for you. After this, you should have an array that is $N \\times (M * K)$.\n",
    "\n",
    "**3. Now that we have this array, we can iterate through it to get our mini-batches. **\n",
    "\n",
    "The idea is each batch is a $N \\times M$ window on the $N \\times (M * K)$ array. For each subsequent batch, the window moves over by `seq_length`. We also want to create both the input and target arrays. Remember that the targets are just the inputs shifted over by one character. The way I like to do this window is use `range` to take steps of size `n_steps` from $0$ to `arr.shape[1]`, the total number of tokens in each sequence. That way, the integers you get from `range` always point to the start of a batch, and each window is `seq_length` wide.\n",
    "\n",
    "> **TODO:** Write the code for creating batches in the function below. The exercises in this notebook _will not be easy_. I've provided a notebook with solutions alongside this notebook. If you get stuck, checkout the solutions. The most important thing is that you don't copy and paste the code into here, **type out the solution code yourself.**"
   ]
  },
  {
   "cell_type": "code",
   "execution_count": 9,
   "metadata": {},
   "outputs": [],
   "source": [
    "def get_batches(arr, batch_size, seq_length):\n",
    "    '''Create a generator that returns batches of size\n",
    "       batch_size x seq_length from arr.\n",
    "       \n",
    "       Arguments\n",
    "       ---------\n",
    "       arr: Array you want to make batches from\n",
    "       batch_size: Batch size, the number of sequences per batch\n",
    "       seq_length: Number of encoded chars in a sequence\n",
    "    '''\n",
    "    \n",
    "    ## TODO: Get the number of batches we can make\n",
    "    n_batches = len(arr)//(batch_size * seq_length)\n",
    "    \n",
    "    ## TODO: Keep only enough characters to make full batches\n",
    "    arr = arr[:n_batches * batch_size * seq_length]\n",
    "    \n",
    "    ## TODO: Reshape into batch_size rows\n",
    "    arr = arr.reshape(batch_size , -1)\n",
    "    \n",
    "    ## TODO: Iterate over the batches using a window of size seq_length\n",
    "    for n in range(0, arr.shape[1], seq_length):\n",
    "        # The features\n",
    "        x = arr[:,n:n+seq_length]\n",
    "        # The targets, shifted by one\n",
    "        y = np.zeros_like(x)\n",
    "        try:\n",
    "            y[:,:-1]=x[:,1:]\n",
    "            y[:,-1]=x[:,n+seq_length]\n",
    "        except IndexError:\n",
    "            y[:,:-1]=x[:,1:]\n",
    "            y[:,-1]=x[:,0]\n",
    "        yield x, y"
   ]
  },
  {
   "cell_type": "markdown",
   "metadata": {},
   "source": [
    "### Test Your Implementation\n",
    "\n",
    "Now I'll make some data sets and we can check out what's going on as we batch data. Here, as an example, I'm going to use a batch size of 8 and 50 sequence steps."
   ]
  },
  {
   "cell_type": "code",
   "execution_count": 10,
   "metadata": {},
   "outputs": [],
   "source": [
    "batches = get_batches(encoded, 8, 50)\n",
    "x, y = next(batches)"
   ]
  },
  {
   "cell_type": "code",
   "execution_count": 11,
   "metadata": {},
   "outputs": [
    {
     "name": "stdout",
     "output_type": "stream",
     "text": [
      "x\n",
      " [[34 32 57 41 67 56 21 54 72 25]\n",
      " [47 49 10 54 67 32 57 67 54 57]\n",
      " [56 10 58 54 49 21 54 57 54 24]\n",
      " [47 54 67 32 56 54 66 32  9 56]\n",
      " [54 47 57 61 54 32 56 21 54 67]\n",
      " [66 22 47 47  9 49 10 54 57 10]\n",
      " [54  4 10 10 57 54 32 57 58 54]\n",
      " [42 12 26 49 10 47 16 20  6 54]]\n",
      "\n",
      "y\n",
      " [[32 57 41 67 56 21 54 72 25 25]\n",
      " [49 10 54 67 32 57 67 54 57 67]\n",
      " [10 58 54 49 21 54 57 54 24 49]\n",
      " [54 67 32 56 54 66 32  9 56 24]\n",
      " [47 57 61 54 32 56 21 54 67 56]\n",
      " [22 47 47  9 49 10 54 57 10 58]\n",
      " [ 4 10 10 57 54 32 57 58 54 47]\n",
      " [12 26 49 10 47 16 20  6 54 48]]\n"
     ]
    }
   ],
   "source": [
    "# printing out the first 10 items in a sequence\n",
    "print('x\\n', x[:10, :10])\n",
    "print('\\ny\\n', y[:10, :10])"
   ]
  },
  {
   "cell_type": "markdown",
   "metadata": {},
   "source": [
    "If you implemented `get_batches` correctly, the above output should look something like \n",
    "```\n",
    "x\n",
    " [[25  8 60 11 45 27 28 73  1  2]\n",
    " [17  7 20 73 45  8 60 45 73 60]\n",
    " [27 20 80 73  7 28 73 60 73 65]\n",
    " [17 73 45  8 27 73 66  8 46 27]\n",
    " [73 17 60 12 73  8 27 28 73 45]\n",
    " [66 64 17 17 46  7 20 73 60 20]\n",
    " [73 76 20 20 60 73  8 60 80 73]\n",
    " [47 35 43  7 20 17 24 50 37 73]]\n",
    "\n",
    "y\n",
    " [[ 8 60 11 45 27 28 73  1  2  2]\n",
    " [ 7 20 73 45  8 60 45 73 60 45]\n",
    " [20 80 73  7 28 73 60 73 65  7]\n",
    " [73 45  8 27 73 66  8 46 27 65]\n",
    " [17 60 12 73  8 27 28 73 45 27]\n",
    " [64 17 17 46  7 20 73 60 20 80]\n",
    " [76 20 20 60 73  8 60 80 73 17]\n",
    " [35 43  7 20 17 24 50 37 73 36]]\n",
    " ```\n",
    " although the exact numbers may be different. Check to make sure the data is shifted over one step for `y`."
   ]
  },
  {
   "cell_type": "markdown",
   "metadata": {},
   "source": [
    "---\n",
    "## Defining the network with PyTorch\n",
    "\n",
    "Below is where you'll define the network.\n",
    "\n",
    "<img src=\"assets/charRNN.png\" width=500px>\n",
    "\n",
    "Next, you'll use PyTorch to define the architecture of the network. We start by defining the layers and operations we want. Then, define a method for the forward pass. You've also been given a method for predicting characters."
   ]
  },
  {
   "cell_type": "markdown",
   "metadata": {},
   "source": [
    "### Model Structure\n",
    "\n",
    "In `__init__` the suggested structure is as follows:\n",
    "* Create and store the necessary dictionaries (this has been done for you)\n",
    "* Define an LSTM layer that takes as params: an input size (the number of characters), a hidden layer size `n_hidden`, a number of layers `n_layers`, a dropout probability `drop_prob`, and a batch_first boolean (True, since we are batching)\n",
    "* Define a dropout layer with `dropout_prob`\n",
    "* Define a fully-connected layer with params: input size `n_hidden` and output size (the number of characters)\n",
    "* Finally, initialize the weights (again, this has been given)\n",
    "\n",
    "Note that some parameters have been named and given in the `__init__` function, and we use them and store them by doing something like `self.drop_prob = drop_prob`."
   ]
  },
  {
   "cell_type": "markdown",
   "metadata": {},
   "source": [
    "---\n",
    "### LSTM Inputs/Outputs\n",
    "\n",
    "You can create a basic [LSTM layer](https://pytorch.org/docs/stable/nn.html#lstm) as follows\n",
    "\n",
    "```python\n",
    "self.lstm = nn.LSTM(input_size, n_hidden, n_layers, \n",
    "                            dropout=drop_prob, batch_first=True)\n",
    "```\n",
    "\n",
    "where `input_size` is the number of characters this cell expects to see as sequential input, and `n_hidden` is the number of units in the hidden layers in the cell. And we can add dropout by adding a dropout parameter with a specified probability; this will automatically add dropout to the inputs or outputs. Finally, in the `forward` function, we can stack up the LSTM cells into layers using `.view`. With this, you pass in a list of cells and it will send the output of one cell into the next cell.\n",
    "\n",
    "We also need to create an initial hidden state of all zeros. This is done like so\n",
    "\n",
    "```python\n",
    "self.init_hidden()\n",
    "```"
   ]
  },
  {
   "cell_type": "code",
   "execution_count": 12,
   "metadata": {},
   "outputs": [
    {
     "name": "stdout",
     "output_type": "stream",
     "text": [
      "Training on GPU!\n"
     ]
    }
   ],
   "source": [
    "# check if GPU is available\n",
    "train_on_gpu = torch.cuda.is_available()\n",
    "if(train_on_gpu):\n",
    "    print('Training on GPU!')\n",
    "else: \n",
    "    print('No GPU available, training on CPU; consider making n_epochs very small.')"
   ]
  },
  {
   "cell_type": "code",
   "execution_count": 13,
   "metadata": {},
   "outputs": [],
   "source": [
    "class CharRNN(nn.Module):\n",
    "    \n",
    "    def __init__(self, tokens, n_hidden=256, n_layers=2,\n",
    "                               drop_prob=0.5, lr=0.001):\n",
    "        super().__init__()\n",
    "        self.drop_prob = drop_prob\n",
    "        self.n_layers = n_layers\n",
    "        self.n_hidden = n_hidden\n",
    "        self.lr = lr\n",
    "        \n",
    "        # creating character dictionaries\n",
    "        self.chars = tokens\n",
    "        self.int2char = dict(enumerate(self.chars))\n",
    "        self.char2int = {ch: ii for ii, ch in self.int2char.items()}\n",
    "        \n",
    "        ## TODO: define the layers of the model\n",
    "        self.lstm = nn.LSTM(len(self.chars),self.n_hidden, self.n_layers,dropout=self.drop_prob, batch_first=True)\n",
    "        self.dropout = nn.Dropout(self.drop_prob)\n",
    "        self.fc = nn.Linear(self.n_hidden,len(self.chars))\n",
    "      \n",
    "    \n",
    "    def forward(self, x, hidden):\n",
    "        ''' Forward pass through the network. \n",
    "            These inputs are x, and the hidden/cell state `hidden`. '''\n",
    "                \n",
    "        ## TODO: Get the outputs and the new hidden state from the lstm\n",
    "        \n",
    "        r_output , hidden = self.lstm(x, hidden)\n",
    "        out = self.dropout(r_output)\n",
    "        out = out.contiguous().view(-1, self.n_hidden)\n",
    "        out = self.fc(out)\n",
    "        # return the final output and the hidden state\n",
    "        return out, hidden\n",
    "    \n",
    "    \n",
    "    def init_hidden(self, batch_size):\n",
    "        ''' Initializes hidden state '''\n",
    "        # Create two new tensors with sizes n_layers x batch_size x n_hidden,\n",
    "        # initialized to zero, for hidden state and cell state of LSTM\n",
    "        weight = next(self.parameters()).data\n",
    "        \n",
    "        if (train_on_gpu):\n",
    "            hidden = (weight.new(self.n_layers, batch_size, self.n_hidden).zero_().cuda(),\n",
    "                  weight.new(self.n_layers, batch_size, self.n_hidden).zero_().cuda())\n",
    "        else:\n",
    "            hidden = (weight.new(self.n_layers, batch_size, self.n_hidden).zero_(),\n",
    "                      weight.new(self.n_layers, batch_size, self.n_hidden).zero_())\n",
    "        \n",
    "        return hidden\n",
    "        "
   ]
  },
  {
   "cell_type": "markdown",
   "metadata": {},
   "source": [
    "## Time to train\n",
    "\n",
    "The train function gives us the ability to set the number of epochs, the learning rate, and other parameters.\n",
    "\n",
    "Below we're using an Adam optimizer and cross entropy loss since we are looking at character class scores as output. We calculate the loss and perform backpropagation, as usual!\n",
    "\n",
    "A couple of details about training: \n",
    ">* Within the batch loop, we detach the hidden state from its history; this time setting it equal to a new *tuple* variable because an LSTM has a hidden state that is a tuple of the hidden and cell states.\n",
    "* We use [`clip_grad_norm_`](https://pytorch.org/docs/stable/_modules/torch/nn/utils/clip_grad.html) to help prevent exploding gradients."
   ]
  },
  {
   "cell_type": "code",
   "execution_count": 14,
   "metadata": {},
   "outputs": [],
   "source": [
    "def train(net, data, epochs=10, batch_size=10, seq_length=50, lr=0.001, clip=5, val_frac=0.1, print_every=10):\n",
    "    ''' Training a network \n",
    "    \n",
    "        Arguments\n",
    "        ---------\n",
    "        \n",
    "        net: CharRNN network\n",
    "        data: text data to train the network\n",
    "        epochs: Number of epochs to train\n",
    "        batch_size: Number of mini-sequences per mini-batch, aka batch size\n",
    "        seq_length: Number of character steps per mini-batch\n",
    "        lr: learning rate\n",
    "        clip: gradient clipping\n",
    "        val_frac: Fraction of data to hold out for validation\n",
    "        print_every: Number of steps for printing training and validation loss\n",
    "    \n",
    "    '''\n",
    "    net.train()\n",
    "    \n",
    "    opt = torch.optim.Adam(net.parameters(), lr=lr)\n",
    "    criterion = nn.CrossEntropyLoss()\n",
    "    \n",
    "    # create training and validation data\n",
    "    val_idx = int(len(data)*(1-val_frac))\n",
    "    data, val_data = data[:val_idx], data[val_idx:]\n",
    "    \n",
    "    if(train_on_gpu):\n",
    "        net.cuda()\n",
    "    \n",
    "    counter = 0\n",
    "    n_chars = len(net.chars)\n",
    "    for e in range(epochs):\n",
    "        # initialize hidden state\n",
    "        h = net.init_hidden(batch_size)\n",
    "        \n",
    "        for x, y in get_batches(data, batch_size, seq_length):\n",
    "            counter += 1\n",
    "            \n",
    "            # One-hot encode our data and make them Torch tensors\n",
    "            x = one_hot_encode(x, n_chars)\n",
    "            inputs, targets = torch.from_numpy(x), torch.from_numpy(y)\n",
    "            \n",
    "            if(train_on_gpu):\n",
    "                inputs, targets = inputs.cuda(), targets.cuda()\n",
    "\n",
    "            # Creating new variables for the hidden state, otherwise\n",
    "            # we'd backprop through the entire training history\n",
    "            h = tuple([each.data for each in h])\n",
    "\n",
    "            # zero accumulated gradients\n",
    "            net.zero_grad()\n",
    "            \n",
    "            # get the output from the model\n",
    "            output, h = net(inputs, h)\n",
    "            \n",
    "            # calculate the loss and perform backprop\n",
    "            loss = criterion(output, targets.view(batch_size*seq_length).long())\n",
    "            loss.backward()\n",
    "            # `clip_grad_norm` helps prevent the exploding gradient problem in RNNs / LSTMs.\n",
    "            nn.utils.clip_grad_norm_(net.parameters(), clip)\n",
    "            opt.step()\n",
    "            \n",
    "            # loss stats\n",
    "            if counter % print_every == 0:\n",
    "                # Get validation loss\n",
    "                val_h = net.init_hidden(batch_size)\n",
    "                val_losses = []\n",
    "                net.eval()\n",
    "                for x, y in get_batches(val_data, batch_size, seq_length):\n",
    "                    # One-hot encode our data and make them Torch tensors\n",
    "                    x = one_hot_encode(x, n_chars)\n",
    "                    x, y = torch.from_numpy(x), torch.from_numpy(y)\n",
    "                    \n",
    "                    # Creating new variables for the hidden state, otherwise\n",
    "                    # we'd backprop through the entire training history\n",
    "                    val_h = tuple([each.data for each in val_h])\n",
    "                    \n",
    "                    inputs, targets = x, y\n",
    "                    if(train_on_gpu):\n",
    "                        inputs, targets = inputs.cuda(), targets.cuda()\n",
    "\n",
    "                    output, val_h = net(inputs, val_h)\n",
    "                    val_loss = criterion(output, targets.view(batch_size*seq_length).long())\n",
    "                \n",
    "                    val_losses.append(val_loss.item())\n",
    "                \n",
    "                net.train() # reset to train mode after iterationg through validation data\n",
    "                \n",
    "                print(\"Epoch: {}/{}...\".format(e+1, epochs),\n",
    "                      \"Step: {}...\".format(counter),\n",
    "                      \"Loss: {:.4f}...\".format(loss.item()),\n",
    "                      \"Val Loss: {:.4f}\".format(np.mean(val_losses)))"
   ]
  },
  {
   "cell_type": "markdown",
   "metadata": {},
   "source": [
    "## Instantiating the model\n",
    "\n",
    "Now we can actually train the network. First we'll create the network itself, with some given hyperparameters. Then, define the mini-batches sizes, and start training!"
   ]
  },
  {
   "cell_type": "code",
   "execution_count": 15,
   "metadata": {},
   "outputs": [
    {
     "name": "stdout",
     "output_type": "stream",
     "text": [
      "CharRNN(\n",
      "  (lstm): LSTM(83, 512, num_layers=2, batch_first=True, dropout=0.5)\n",
      "  (dropout): Dropout(p=0.5)\n",
      "  (fc): Linear(in_features=512, out_features=83, bias=True)\n",
      ")\n"
     ]
    }
   ],
   "source": [
    "## TODO: set you model hyperparameters\n",
    "# define and print the net\n",
    "n_hidden=512\n",
    "n_layers=2\n",
    "\n",
    "net = CharRNN(chars, n_hidden, n_layers)\n",
    "print(net)"
   ]
  },
  {
   "cell_type": "markdown",
   "metadata": {},
   "source": [
    "### Set your training hyperparameters!"
   ]
  },
  {
   "cell_type": "code",
   "execution_count": 16,
   "metadata": {
    "scrolled": true
   },
   "outputs": [
    {
     "name": "stdout",
     "output_type": "stream",
     "text": [
      "Epoch: 1/20... Step: 10... Loss: 3.2546... Val Loss: 3.2205\n",
      "Epoch: 1/20... Step: 20... Loss: 3.1521... Val Loss: 3.1425\n",
      "Epoch: 1/20... Step: 30... Loss: 3.1446... Val Loss: 3.1265\n",
      "Epoch: 1/20... Step: 40... Loss: 3.1138... Val Loss: 3.1186\n",
      "Epoch: 1/20... Step: 50... Loss: 3.1400... Val Loss: 3.1157\n",
      "Epoch: 1/20... Step: 60... Loss: 3.1129... Val Loss: 3.1108\n",
      "Epoch: 1/20... Step: 70... Loss: 3.0977... Val Loss: 3.1026\n",
      "Epoch: 1/20... Step: 80... Loss: 3.0949... Val Loss: 3.0800\n",
      "Epoch: 1/20... Step: 90... Loss: 3.0529... Val Loss: 3.0233\n",
      "Epoch: 1/20... Step: 100... Loss: 2.9733... Val Loss: 2.9399\n",
      "Epoch: 1/20... Step: 110... Loss: 2.9199... Val Loss: 2.8744\n",
      "Epoch: 1/20... Step: 120... Loss: 2.7742... Val Loss: 2.7513\n",
      "Epoch: 1/20... Step: 130... Loss: 2.7003... Val Loss: 2.6588\n",
      "Epoch: 2/20... Step: 140... Loss: 2.6201... Val Loss: 2.5685\n",
      "Epoch: 2/20... Step: 150... Loss: 2.5640... Val Loss: 2.5080\n",
      "Epoch: 2/20... Step: 160... Loss: 2.5079... Val Loss: 2.4668\n",
      "Epoch: 2/20... Step: 170... Loss: 2.4527... Val Loss: 2.4314\n",
      "Epoch: 2/20... Step: 180... Loss: 2.4174... Val Loss: 2.3948\n",
      "Epoch: 2/20... Step: 190... Loss: 2.3693... Val Loss: 2.3703\n",
      "Epoch: 2/20... Step: 200... Loss: 2.3588... Val Loss: 2.3385\n",
      "Epoch: 2/20... Step: 210... Loss: 2.3289... Val Loss: 2.3151\n",
      "Epoch: 2/20... Step: 220... Loss: 2.2953... Val Loss: 2.2800\n",
      "Epoch: 2/20... Step: 230... Loss: 2.2892... Val Loss: 2.2535\n",
      "Epoch: 2/20... Step: 240... Loss: 2.2710... Val Loss: 2.2268\n",
      "Epoch: 2/20... Step: 250... Loss: 2.1989... Val Loss: 2.1994\n",
      "Epoch: 2/20... Step: 260... Loss: 2.1689... Val Loss: 2.1823\n",
      "Epoch: 2/20... Step: 270... Loss: 2.1854... Val Loss: 2.1586\n",
      "Epoch: 3/20... Step: 280... Loss: 2.1734... Val Loss: 2.1381\n",
      "Epoch: 3/20... Step: 290... Loss: 2.1580... Val Loss: 2.1143\n",
      "Epoch: 3/20... Step: 300... Loss: 2.1238... Val Loss: 2.0930\n",
      "Epoch: 3/20... Step: 310... Loss: 2.0982... Val Loss: 2.0738\n",
      "Epoch: 3/20... Step: 320... Loss: 2.0628... Val Loss: 2.0574\n",
      "Epoch: 3/20... Step: 330... Loss: 2.0391... Val Loss: 2.0454\n",
      "Epoch: 3/20... Step: 340... Loss: 2.0610... Val Loss: 2.0231\n",
      "Epoch: 3/20... Step: 350... Loss: 2.0490... Val Loss: 2.0083\n",
      "Epoch: 3/20... Step: 360... Loss: 1.9725... Val Loss: 1.9895\n",
      "Epoch: 3/20... Step: 370... Loss: 2.0103... Val Loss: 1.9753\n",
      "Epoch: 3/20... Step: 380... Loss: 1.9863... Val Loss: 1.9624\n",
      "Epoch: 3/20... Step: 390... Loss: 1.9495... Val Loss: 1.9462\n",
      "Epoch: 3/20... Step: 400... Loss: 1.9259... Val Loss: 1.9300\n",
      "Epoch: 3/20... Step: 410... Loss: 1.9424... Val Loss: 1.9136\n",
      "Epoch: 4/20... Step: 420... Loss: 1.9406... Val Loss: 1.9009\n",
      "Epoch: 4/20... Step: 430... Loss: 1.9255... Val Loss: 1.8884\n",
      "Epoch: 4/20... Step: 440... Loss: 1.9091... Val Loss: 1.8769\n",
      "Epoch: 4/20... Step: 450... Loss: 1.8503... Val Loss: 1.8642\n",
      "Epoch: 4/20... Step: 460... Loss: 1.8449... Val Loss: 1.8501\n",
      "Epoch: 4/20... Step: 470... Loss: 1.8802... Val Loss: 1.8428\n",
      "Epoch: 4/20... Step: 480... Loss: 1.8436... Val Loss: 1.8292\n",
      "Epoch: 4/20... Step: 490... Loss: 1.8540... Val Loss: 1.8153\n",
      "Epoch: 4/20... Step: 500... Loss: 1.8555... Val Loss: 1.8124\n",
      "Epoch: 4/20... Step: 510... Loss: 1.8353... Val Loss: 1.7998\n",
      "Epoch: 4/20... Step: 520... Loss: 1.8435... Val Loss: 1.7905\n",
      "Epoch: 4/20... Step: 530... Loss: 1.8031... Val Loss: 1.7815\n",
      "Epoch: 4/20... Step: 540... Loss: 1.7693... Val Loss: 1.7736\n",
      "Epoch: 4/20... Step: 550... Loss: 1.8193... Val Loss: 1.7631\n",
      "Epoch: 5/20... Step: 560... Loss: 1.7696... Val Loss: 1.7566\n",
      "Epoch: 5/20... Step: 570... Loss: 1.7710... Val Loss: 1.7436\n",
      "Epoch: 5/20... Step: 580... Loss: 1.7404... Val Loss: 1.7337\n",
      "Epoch: 5/20... Step: 590... Loss: 1.7536... Val Loss: 1.7232\n",
      "Epoch: 5/20... Step: 600... Loss: 1.7434... Val Loss: 1.7204\n",
      "Epoch: 5/20... Step: 610... Loss: 1.7238... Val Loss: 1.7139\n",
      "Epoch: 5/20... Step: 620... Loss: 1.7281... Val Loss: 1.7084\n",
      "Epoch: 5/20... Step: 630... Loss: 1.7523... Val Loss: 1.6974\n",
      "Epoch: 5/20... Step: 640... Loss: 1.7166... Val Loss: 1.6956\n",
      "Epoch: 5/20... Step: 650... Loss: 1.6984... Val Loss: 1.6875\n",
      "Epoch: 5/20... Step: 660... Loss: 1.6849... Val Loss: 1.6856\n",
      "Epoch: 5/20... Step: 670... Loss: 1.7132... Val Loss: 1.6749\n",
      "Epoch: 5/20... Step: 680... Loss: 1.7045... Val Loss: 1.6701\n",
      "Epoch: 5/20... Step: 690... Loss: 1.6791... Val Loss: 1.6644\n",
      "Epoch: 6/20... Step: 700... Loss: 1.6747... Val Loss: 1.6590\n",
      "Epoch: 6/20... Step: 710... Loss: 1.6733... Val Loss: 1.6563\n",
      "Epoch: 6/20... Step: 720... Loss: 1.6617... Val Loss: 1.6489\n",
      "Epoch: 6/20... Step: 730... Loss: 1.6645... Val Loss: 1.6441\n",
      "Epoch: 6/20... Step: 740... Loss: 1.6368... Val Loss: 1.6385\n",
      "Epoch: 6/20... Step: 750... Loss: 1.6153... Val Loss: 1.6305\n",
      "Epoch: 6/20... Step: 760... Loss: 1.6518... Val Loss: 1.6269\n",
      "Epoch: 6/20... Step: 770... Loss: 1.6422... Val Loss: 1.6211\n",
      "Epoch: 6/20... Step: 780... Loss: 1.6289... Val Loss: 1.6180\n",
      "Epoch: 6/20... Step: 790... Loss: 1.6090... Val Loss: 1.6105\n",
      "Epoch: 6/20... Step: 800... Loss: 1.6291... Val Loss: 1.6110\n",
      "Epoch: 6/20... Step: 810... Loss: 1.6153... Val Loss: 1.6057\n",
      "Epoch: 6/20... Step: 820... Loss: 1.5804... Val Loss: 1.6015\n",
      "Epoch: 6/20... Step: 830... Loss: 1.6264... Val Loss: 1.5981\n",
      "Epoch: 7/20... Step: 840... Loss: 1.5791... Val Loss: 1.5927\n",
      "Epoch: 7/20... Step: 850... Loss: 1.5913... Val Loss: 1.5905\n",
      "Epoch: 7/20... Step: 860... Loss: 1.5765... Val Loss: 1.5810\n",
      "Epoch: 7/20... Step: 870... Loss: 1.5995... Val Loss: 1.5768\n",
      "Epoch: 7/20... Step: 880... Loss: 1.5929... Val Loss: 1.5750\n",
      "Epoch: 7/20... Step: 890... Loss: 1.5899... Val Loss: 1.5708\n",
      "Epoch: 7/20... Step: 900... Loss: 1.5728... Val Loss: 1.5701\n",
      "Epoch: 7/20... Step: 910... Loss: 1.5316... Val Loss: 1.5676\n",
      "Epoch: 7/20... Step: 920... Loss: 1.5619... Val Loss: 1.5642\n",
      "Epoch: 7/20... Step: 930... Loss: 1.5540... Val Loss: 1.5560\n",
      "Epoch: 7/20... Step: 940... Loss: 1.5627... Val Loss: 1.5509\n",
      "Epoch: 7/20... Step: 950... Loss: 1.5670... Val Loss: 1.5478\n",
      "Epoch: 7/20... Step: 960... Loss: 1.5632... Val Loss: 1.5474\n",
      "Epoch: 7/20... Step: 970... Loss: 1.5678... Val Loss: 1.5417\n",
      "Epoch: 8/20... Step: 980... Loss: 1.5393... Val Loss: 1.5408\n",
      "Epoch: 8/20... Step: 990... Loss: 1.5424... Val Loss: 1.5361\n",
      "Epoch: 8/20... Step: 1000... Loss: 1.5308... Val Loss: 1.5334\n",
      "Epoch: 8/20... Step: 1010... Loss: 1.5759... Val Loss: 1.5303\n",
      "Epoch: 8/20... Step: 1020... Loss: 1.5384... Val Loss: 1.5266\n",
      "Epoch: 8/20... Step: 1030... Loss: 1.5349... Val Loss: 1.5211\n",
      "Epoch: 8/20... Step: 1040... Loss: 1.5357... Val Loss: 1.5224\n",
      "Epoch: 8/20... Step: 1050... Loss: 1.5149... Val Loss: 1.5198\n",
      "Epoch: 8/20... Step: 1060... Loss: 1.5220... Val Loss: 1.5164\n",
      "Epoch: 8/20... Step: 1070... Loss: 1.5218... Val Loss: 1.5149\n",
      "Epoch: 8/20... Step: 1080... Loss: 1.5165... Val Loss: 1.5115\n",
      "Epoch: 8/20... Step: 1090... Loss: 1.4982... Val Loss: 1.5052\n",
      "Epoch: 8/20... Step: 1100... Loss: 1.4979... Val Loss: 1.5052\n",
      "Epoch: 8/20... Step: 1110... Loss: 1.5028... Val Loss: 1.5028\n",
      "Epoch: 9/20... Step: 1120... Loss: 1.5070... Val Loss: 1.4976\n",
      "Epoch: 9/20... Step: 1130... Loss: 1.5069... Val Loss: 1.4959\n",
      "Epoch: 9/20... Step: 1140... Loss: 1.5224... Val Loss: 1.4922\n",
      "Epoch: 9/20... Step: 1150... Loss: 1.5160... Val Loss: 1.4915\n",
      "Epoch: 9/20... Step: 1160... Loss: 1.4843... Val Loss: 1.4895\n",
      "Epoch: 9/20... Step: 1170... Loss: 1.4862... Val Loss: 1.4864\n",
      "Epoch: 9/20... Step: 1180... Loss: 1.4893... Val Loss: 1.4884\n",
      "Epoch: 9/20... Step: 1190... Loss: 1.5205... Val Loss: 1.4854\n",
      "Epoch: 9/20... Step: 1200... Loss: 1.4669... Val Loss: 1.4795\n",
      "Epoch: 9/20... Step: 1210... Loss: 1.4764... Val Loss: 1.4808\n",
      "Epoch: 9/20... Step: 1220... Loss: 1.4784... Val Loss: 1.4773\n",
      "Epoch: 9/20... Step: 1230... Loss: 1.4590... Val Loss: 1.4758\n",
      "Epoch: 9/20... Step: 1240... Loss: 1.4626... Val Loss: 1.4735\n",
      "Epoch: 9/20... Step: 1250... Loss: 1.4693... Val Loss: 1.4696\n",
      "Epoch: 10/20... Step: 1260... Loss: 1.4794... Val Loss: 1.4677\n",
      "Epoch: 10/20... Step: 1270... Loss: 1.4667... Val Loss: 1.4642\n",
      "Epoch: 10/20... Step: 1280... Loss: 1.4821... Val Loss: 1.4616\n",
      "Epoch: 10/20... Step: 1290... Loss: 1.4711... Val Loss: 1.4649\n",
      "Epoch: 10/20... Step: 1300... Loss: 1.4542... Val Loss: 1.4618\n",
      "Epoch: 10/20... Step: 1310... Loss: 1.4648... Val Loss: 1.4582\n",
      "Epoch: 10/20... Step: 1320... Loss: 1.4322... Val Loss: 1.4537\n",
      "Epoch: 10/20... Step: 1330... Loss: 1.4389... Val Loss: 1.4544\n",
      "Epoch: 10/20... Step: 1340... Loss: 1.4254... Val Loss: 1.4498\n"
     ]
    },
    {
     "name": "stdout",
     "output_type": "stream",
     "text": [
      "Epoch: 10/20... Step: 1350... Loss: 1.4224... Val Loss: 1.4519\n",
      "Epoch: 10/20... Step: 1360... Loss: 1.4258... Val Loss: 1.4489\n",
      "Epoch: 10/20... Step: 1370... Loss: 1.4133... Val Loss: 1.4451\n",
      "Epoch: 10/20... Step: 1380... Loss: 1.4644... Val Loss: 1.4455\n",
      "Epoch: 10/20... Step: 1390... Loss: 1.4223... Val Loss: 1.4442\n",
      "Epoch: 11/20... Step: 1400... Loss: 1.4636... Val Loss: 1.4411\n",
      "Epoch: 11/20... Step: 1410... Loss: 1.4679... Val Loss: 1.4383\n",
      "Epoch: 11/20... Step: 1420... Loss: 1.4525... Val Loss: 1.4353\n",
      "Epoch: 11/20... Step: 1430... Loss: 1.4327... Val Loss: 1.4416\n",
      "Epoch: 11/20... Step: 1440... Loss: 1.4567... Val Loss: 1.4356\n",
      "Epoch: 11/20... Step: 1450... Loss: 1.3904... Val Loss: 1.4373\n",
      "Epoch: 11/20... Step: 1460... Loss: 1.4138... Val Loss: 1.4330\n",
      "Epoch: 11/20... Step: 1470... Loss: 1.4061... Val Loss: 1.4329\n",
      "Epoch: 11/20... Step: 1480... Loss: 1.4191... Val Loss: 1.4283\n",
      "Epoch: 11/20... Step: 1490... Loss: 1.4192... Val Loss: 1.4296\n",
      "Epoch: 11/20... Step: 1500... Loss: 1.4100... Val Loss: 1.4302\n",
      "Epoch: 11/20... Step: 1510... Loss: 1.3817... Val Loss: 1.4245\n",
      "Epoch: 11/20... Step: 1520... Loss: 1.4270... Val Loss: 1.4244\n",
      "Epoch: 12/20... Step: 1530... Loss: 1.4818... Val Loss: 1.4245\n",
      "Epoch: 12/20... Step: 1540... Loss: 1.4368... Val Loss: 1.4175\n",
      "Epoch: 12/20... Step: 1550... Loss: 1.4326... Val Loss: 1.4212\n",
      "Epoch: 12/20... Step: 1560... Loss: 1.4530... Val Loss: 1.4173\n",
      "Epoch: 12/20... Step: 1570... Loss: 1.3961... Val Loss: 1.4207\n",
      "Epoch: 12/20... Step: 1580... Loss: 1.3769... Val Loss: 1.4181\n",
      "Epoch: 12/20... Step: 1590... Loss: 1.3636... Val Loss: 1.4204\n",
      "Epoch: 12/20... Step: 1600... Loss: 1.3945... Val Loss: 1.4133\n",
      "Epoch: 12/20... Step: 1610... Loss: 1.3901... Val Loss: 1.4165\n",
      "Epoch: 12/20... Step: 1620... Loss: 1.3843... Val Loss: 1.4125\n",
      "Epoch: 12/20... Step: 1630... Loss: 1.4068... Val Loss: 1.4107\n",
      "Epoch: 12/20... Step: 1640... Loss: 1.3834... Val Loss: 1.4118\n",
      "Epoch: 12/20... Step: 1650... Loss: 1.3557... Val Loss: 1.4098\n",
      "Epoch: 12/20... Step: 1660... Loss: 1.4068... Val Loss: 1.4072\n",
      "Epoch: 13/20... Step: 1670... Loss: 1.3902... Val Loss: 1.4102\n",
      "Epoch: 13/20... Step: 1680... Loss: 1.3980... Val Loss: 1.4043\n",
      "Epoch: 13/20... Step: 1690... Loss: 1.3791... Val Loss: 1.4050\n",
      "Epoch: 13/20... Step: 1700... Loss: 1.3724... Val Loss: 1.4014\n",
      "Epoch: 13/20... Step: 1710... Loss: 1.3565... Val Loss: 1.4007\n",
      "Epoch: 13/20... Step: 1720... Loss: 1.3681... Val Loss: 1.4007\n",
      "Epoch: 13/20... Step: 1730... Loss: 1.4003... Val Loss: 1.4005\n",
      "Epoch: 13/20... Step: 1740... Loss: 1.3736... Val Loss: 1.3989\n",
      "Epoch: 13/20... Step: 1750... Loss: 1.3327... Val Loss: 1.4024\n",
      "Epoch: 13/20... Step: 1760... Loss: 1.3692... Val Loss: 1.3959\n",
      "Epoch: 13/20... Step: 1770... Loss: 1.3861... Val Loss: 1.3979\n",
      "Epoch: 13/20... Step: 1780... Loss: 1.3610... Val Loss: 1.3985\n",
      "Epoch: 13/20... Step: 1790... Loss: 1.3618... Val Loss: 1.3936\n",
      "Epoch: 13/20... Step: 1800... Loss: 1.3723... Val Loss: 1.3891\n",
      "Epoch: 14/20... Step: 1810... Loss: 1.3750... Val Loss: 1.3922\n",
      "Epoch: 14/20... Step: 1820... Loss: 1.3589... Val Loss: 1.3892\n",
      "Epoch: 14/20... Step: 1830... Loss: 1.3792... Val Loss: 1.3864\n",
      "Epoch: 14/20... Step: 1840... Loss: 1.3346... Val Loss: 1.3902\n",
      "Epoch: 14/20... Step: 1850... Loss: 1.3066... Val Loss: 1.3846\n",
      "Epoch: 14/20... Step: 1860... Loss: 1.3819... Val Loss: 1.3868\n",
      "Epoch: 14/20... Step: 1870... Loss: 1.3800... Val Loss: 1.3836\n",
      "Epoch: 14/20... Step: 1880... Loss: 1.3682... Val Loss: 1.3834\n",
      "Epoch: 14/20... Step: 1890... Loss: 1.3766... Val Loss: 1.3839\n",
      "Epoch: 14/20... Step: 1900... Loss: 1.3596... Val Loss: 1.3769\n",
      "Epoch: 14/20... Step: 1910... Loss: 1.3628... Val Loss: 1.3749\n",
      "Epoch: 14/20... Step: 1920... Loss: 1.3557... Val Loss: 1.3779\n",
      "Epoch: 14/20... Step: 1930... Loss: 1.3269... Val Loss: 1.3742\n",
      "Epoch: 14/20... Step: 1940... Loss: 1.3812... Val Loss: 1.3736\n",
      "Epoch: 15/20... Step: 1950... Loss: 1.3475... Val Loss: 1.3721\n",
      "Epoch: 15/20... Step: 1960... Loss: 1.3484... Val Loss: 1.3657\n",
      "Epoch: 15/20... Step: 1970... Loss: 1.3379... Val Loss: 1.3673\n",
      "Epoch: 15/20... Step: 1980... Loss: 1.3292... Val Loss: 1.3674\n",
      "Epoch: 15/20... Step: 1990... Loss: 1.3291... Val Loss: 1.3650\n",
      "Epoch: 15/20... Step: 2000... Loss: 1.3122... Val Loss: 1.3616\n",
      "Epoch: 15/20... Step: 2010... Loss: 1.3414... Val Loss: 1.3588\n",
      "Epoch: 15/20... Step: 2020... Loss: 1.3467... Val Loss: 1.3594\n",
      "Epoch: 15/20... Step: 2030... Loss: 1.3242... Val Loss: 1.3616\n",
      "Epoch: 15/20... Step: 2040... Loss: 1.3281... Val Loss: 1.3602\n",
      "Epoch: 15/20... Step: 2050... Loss: 1.3197... Val Loss: 1.3560\n",
      "Epoch: 15/20... Step: 2060... Loss: 1.3291... Val Loss: 1.3556\n",
      "Epoch: 15/20... Step: 2070... Loss: 1.3288... Val Loss: 1.3525\n",
      "Epoch: 15/20... Step: 2080... Loss: 1.3334... Val Loss: 1.3553\n",
      "Epoch: 16/20... Step: 2090... Loss: 1.3356... Val Loss: 1.3607\n",
      "Epoch: 16/20... Step: 2100... Loss: 1.3277... Val Loss: 1.3608\n",
      "Epoch: 16/20... Step: 2110... Loss: 1.3180... Val Loss: 1.3503\n",
      "Epoch: 16/20... Step: 2120... Loss: 1.3268... Val Loss: 1.3515\n",
      "Epoch: 16/20... Step: 2130... Loss: 1.2994... Val Loss: 1.3500\n",
      "Epoch: 16/20... Step: 2140... Loss: 1.3007... Val Loss: 1.3499\n",
      "Epoch: 16/20... Step: 2150... Loss: 1.3280... Val Loss: 1.3521\n",
      "Epoch: 16/20... Step: 2160... Loss: 1.3173... Val Loss: 1.3467\n",
      "Epoch: 16/20... Step: 2170... Loss: 1.3072... Val Loss: 1.3472\n",
      "Epoch: 16/20... Step: 2180... Loss: 1.2989... Val Loss: 1.3621\n",
      "Epoch: 16/20... Step: 2190... Loss: 1.3209... Val Loss: 1.3497\n",
      "Epoch: 16/20... Step: 2200... Loss: 1.2971... Val Loss: 1.3473\n",
      "Epoch: 16/20... Step: 2210... Loss: 1.2763... Val Loss: 1.3403\n",
      "Epoch: 16/20... Step: 2220... Loss: 1.3117... Val Loss: 1.3457\n",
      "Epoch: 17/20... Step: 2230... Loss: 1.2831... Val Loss: 1.3487\n",
      "Epoch: 17/20... Step: 2240... Loss: 1.3028... Val Loss: 1.3431\n",
      "Epoch: 17/20... Step: 2250... Loss: 1.2850... Val Loss: 1.3416\n",
      "Epoch: 17/20... Step: 2260... Loss: 1.3032... Val Loss: 1.3457\n",
      "Epoch: 17/20... Step: 2270... Loss: 1.3110... Val Loss: 1.3383\n",
      "Epoch: 17/20... Step: 2280... Loss: 1.3023... Val Loss: 1.3447\n",
      "Epoch: 17/20... Step: 2290... Loss: 1.3040... Val Loss: 1.3403\n",
      "Epoch: 17/20... Step: 2300... Loss: 1.2748... Val Loss: 1.3375\n",
      "Epoch: 17/20... Step: 2310... Loss: 1.2933... Val Loss: 1.3389\n",
      "Epoch: 17/20... Step: 2320... Loss: 1.2869... Val Loss: 1.3405\n",
      "Epoch: 17/20... Step: 2330... Loss: 1.2929... Val Loss: 1.3372\n",
      "Epoch: 17/20... Step: 2340... Loss: 1.3037... Val Loss: 1.3353\n",
      "Epoch: 17/20... Step: 2350... Loss: 1.3024... Val Loss: 1.3384\n",
      "Epoch: 17/20... Step: 2360... Loss: 1.3099... Val Loss: 1.3407\n",
      "Epoch: 18/20... Step: 2370... Loss: 1.2835... Val Loss: 1.3392\n",
      "Epoch: 18/20... Step: 2380... Loss: 1.2906... Val Loss: 1.3326\n",
      "Epoch: 18/20... Step: 2390... Loss: 1.2787... Val Loss: 1.3340\n",
      "Epoch: 18/20... Step: 2400... Loss: 1.3095... Val Loss: 1.3342\n",
      "Epoch: 18/20... Step: 2410... Loss: 1.3061... Val Loss: 1.3324\n",
      "Epoch: 18/20... Step: 2420... Loss: 1.2928... Val Loss: 1.3285\n",
      "Epoch: 18/20... Step: 2430... Loss: 1.2893... Val Loss: 1.3303\n",
      "Epoch: 18/20... Step: 2440... Loss: 1.2732... Val Loss: 1.3297\n",
      "Epoch: 18/20... Step: 2450... Loss: 1.2823... Val Loss: 1.3286\n",
      "Epoch: 18/20... Step: 2460... Loss: 1.2875... Val Loss: 1.3327\n",
      "Epoch: 18/20... Step: 2470... Loss: 1.2804... Val Loss: 1.3319\n",
      "Epoch: 18/20... Step: 2480... Loss: 1.2707... Val Loss: 1.3283\n",
      "Epoch: 18/20... Step: 2490... Loss: 1.2772... Val Loss: 1.3283\n",
      "Epoch: 18/20... Step: 2500... Loss: 1.2756... Val Loss: 1.3295\n",
      "Epoch: 19/20... Step: 2510... Loss: 1.2711... Val Loss: 1.3268\n",
      "Epoch: 19/20... Step: 2520... Loss: 1.2851... Val Loss: 1.3251\n",
      "Epoch: 19/20... Step: 2530... Loss: 1.2986... Val Loss: 1.3331\n",
      "Epoch: 19/20... Step: 2540... Loss: 1.3013... Val Loss: 1.3308\n",
      "Epoch: 19/20... Step: 2550... Loss: 1.2681... Val Loss: 1.3252\n",
      "Epoch: 19/20... Step: 2560... Loss: 1.2792... Val Loss: 1.3213\n",
      "Epoch: 19/20... Step: 2570... Loss: 1.2663... Val Loss: 1.3261\n",
      "Epoch: 19/20... Step: 2580... Loss: 1.3054... Val Loss: 1.3237\n",
      "Epoch: 19/20... Step: 2590... Loss: 1.2620... Val Loss: 1.3296\n",
      "Epoch: 19/20... Step: 2600... Loss: 1.2721... Val Loss: 1.3247\n",
      "Epoch: 19/20... Step: 2610... Loss: 1.2657... Val Loss: 1.3254\n",
      "Epoch: 19/20... Step: 2620... Loss: 1.2497... Val Loss: 1.3231\n",
      "Epoch: 19/20... Step: 2630... Loss: 1.2642... Val Loss: 1.3214\n",
      "Epoch: 19/20... Step: 2640... Loss: 1.2724... Val Loss: 1.3218\n",
      "Epoch: 20/20... Step: 2650... Loss: 1.2845... Val Loss: 1.3202\n"
     ]
    },
    {
     "name": "stdout",
     "output_type": "stream",
     "text": [
      "Epoch: 20/20... Step: 2660... Loss: 1.2774... Val Loss: 1.3174\n",
      "Epoch: 20/20... Step: 2670... Loss: 1.2940... Val Loss: 1.3207\n",
      "Epoch: 20/20... Step: 2680... Loss: 1.2689... Val Loss: 1.3196\n",
      "Epoch: 20/20... Step: 2690... Loss: 1.2650... Val Loss: 1.3216\n",
      "Epoch: 20/20... Step: 2700... Loss: 1.2776... Val Loss: 1.3209\n",
      "Epoch: 20/20... Step: 2710... Loss: 1.2412... Val Loss: 1.3170\n",
      "Epoch: 20/20... Step: 2720... Loss: 1.2460... Val Loss: 1.3153\n",
      "Epoch: 20/20... Step: 2730... Loss: 1.2408... Val Loss: 1.3152\n",
      "Epoch: 20/20... Step: 2740... Loss: 1.2336... Val Loss: 1.3191\n",
      "Epoch: 20/20... Step: 2750... Loss: 1.2446... Val Loss: 1.3172\n",
      "Epoch: 20/20... Step: 2760... Loss: 1.2322... Val Loss: 1.3146\n",
      "Epoch: 20/20... Step: 2770... Loss: 1.2676... Val Loss: 1.3154\n",
      "Epoch: 20/20... Step: 2780... Loss: 1.2487... Val Loss: 1.3176\n"
     ]
    }
   ],
   "source": [
    "batch_size = 128\n",
    "seq_length = 100\n",
    "n_epochs =  20 # start small if you are just testing initial behavior\n",
    "\n",
    "# train the model\n",
    "train(net, encoded, epochs=n_epochs, batch_size=batch_size, seq_length=seq_length, lr=0.001, print_every=10)"
   ]
  },
  {
   "cell_type": "markdown",
   "metadata": {},
   "source": [
    "## Getting the best model\n",
    "\n",
    "To set your hyperparameters to get the best performance, you'll want to watch the training and validation losses. If your training loss is much lower than the validation loss, you're overfitting. Increase regularization (more dropout) or use a smaller network. If the training and validation losses are close, you're underfitting so you can increase the size of the network."
   ]
  },
  {
   "cell_type": "markdown",
   "metadata": {},
   "source": [
    "## Hyperparameters\n",
    "\n",
    "Here are the hyperparameters for the network.\n",
    "\n",
    "In defining the model:\n",
    "* `n_hidden` - The number of units in the hidden layers.\n",
    "* `n_layers` - Number of hidden LSTM layers to use.\n",
    "\n",
    "We assume that dropout probability and learning rate will be kept at the default, in this example.\n",
    "\n",
    "And in training:\n",
    "* `batch_size` - Number of sequences running through the network in one pass.\n",
    "* `seq_length` - Number of characters in the sequence the network is trained on. Larger is better typically, the network will learn more long range dependencies. But it takes longer to train. 100 is typically a good number here.\n",
    "* `lr` - Learning rate for training\n",
    "\n",
    "Here's some good advice from Andrej Karpathy on training the network. I'm going to copy it in here for your benefit, but also link to [where it originally came from](https://github.com/karpathy/char-rnn#tips-and-tricks).\n",
    "\n",
    "> ## Tips and Tricks\n",
    "\n",
    ">### Monitoring Validation Loss vs. Training Loss\n",
    ">If you're somewhat new to Machine Learning or Neural Networks it can take a bit of expertise to get good models. The most important quantity to keep track of is the difference between your training loss (printed during training) and the validation loss (printed once in a while when the RNN is run on the validation data (by default every 1000 iterations)). In particular:\n",
    "\n",
    "> - If your training loss is much lower than validation loss then this means the network might be **overfitting**. Solutions to this are to decrease your network size, or to increase dropout. For example you could try dropout of 0.5 and so on.\n",
    "> - If your training/validation loss are about equal then your model is **underfitting**. Increase the size of your model (either number of layers or the raw number of neurons per layer)\n",
    "\n",
    "> ### Approximate number of parameters\n",
    "\n",
    "> The two most important parameters that control the model are `n_hidden` and `n_layers`. I would advise that you always use `n_layers` of either 2/3. The `n_hidden` can be adjusted based on how much data you have. The two important quantities to keep track of here are:\n",
    "\n",
    "> - The number of parameters in your model. This is printed when you start training.\n",
    "> - The size of your dataset. 1MB file is approximately 1 million characters.\n",
    "\n",
    ">These two should be about the same order of magnitude. It's a little tricky to tell. Here are some examples:\n",
    "\n",
    "> - I have a 100MB dataset and I'm using the default parameter settings (which currently print 150K parameters). My data size is significantly larger (100 mil >> 0.15 mil), so I expect to heavily underfit. I am thinking I can comfortably afford to make `n_hidden` larger.\n",
    "> - I have a 10MB dataset and running a 10 million parameter model. I'm slightly nervous and I'm carefully monitoring my validation loss. If it's larger than my training loss then I may want to try to increase dropout a bit and see if that helps the validation loss.\n",
    "\n",
    "> ### Best models strategy\n",
    "\n",
    ">The winning strategy to obtaining very good models (if you have the compute time) is to always err on making the network larger (as large as you're willing to wait for it to compute) and then try different dropout values (between 0,1). Whatever model has the best validation performance (the loss, written in the checkpoint filename, low is good) is the one you should use in the end.\n",
    "\n",
    ">It is very common in deep learning to run many different models with many different hyperparameter settings, and in the end take whatever checkpoint gave the best validation performance.\n",
    "\n",
    ">By the way, the size of your training and validation splits are also parameters. Make sure you have a decent amount of data in your validation set or otherwise the validation performance will be noisy and not very informative."
   ]
  },
  {
   "cell_type": "markdown",
   "metadata": {},
   "source": [
    "## Checkpoint\n",
    "\n",
    "After training, we'll save the model so we can load it again later if we need too. Here I'm saving the parameters needed to create the same architecture, the hidden layer hyperparameters and the text characters."
   ]
  },
  {
   "cell_type": "code",
   "execution_count": 17,
   "metadata": {},
   "outputs": [],
   "source": [
    "# change the name, for saving multiple files\n",
    "model_name = 'rnn_x_epoch.net'\n",
    "\n",
    "checkpoint = {'n_hidden': net.n_hidden,\n",
    "              'n_layers': net.n_layers,\n",
    "              'state_dict': net.state_dict(),\n",
    "              'tokens': net.chars}\n",
    "\n",
    "with open(model_name, 'wb') as f:\n",
    "    torch.save(checkpoint, f)"
   ]
  },
  {
   "cell_type": "markdown",
   "metadata": {},
   "source": [
    "---\n",
    "## Making Predictions\n",
    "\n",
    "Now that the model is trained, we'll want to sample from it and make predictions about next characters! To sample, we pass in a character and have the network predict the next character. Then we take that character, pass it back in, and get another predicted character. Just keep doing this and you'll generate a bunch of text!\n",
    "\n",
    "### A note on the `predict`  function\n",
    "\n",
    "The output of our RNN is from a fully-connected layer and it outputs a **distribution of next-character scores**.\n",
    "\n",
    "> To actually get the next character, we apply a softmax function, which gives us a *probability* distribution that we can then sample to predict the next character.\n",
    "\n",
    "### Top K sampling\n",
    "\n",
    "Our predictions come from a categorical probability distribution over all the possible characters. We can make the sample text and make it more reasonable to handle (with less variables) by only considering some $K$ most probable characters. This will prevent the network from giving us completely absurd characters while allowing it to introduce some noise and randomness into the sampled text. Read more about [topk, here](https://pytorch.org/docs/stable/torch.html#torch.topk).\n"
   ]
  },
  {
   "cell_type": "code",
   "execution_count": 18,
   "metadata": {},
   "outputs": [],
   "source": [
    "def predict(net, char, h=None, top_k=None):\n",
    "        ''' Given a character, predict the next character.\n",
    "            Returns the predicted character and the hidden state.\n",
    "        '''\n",
    "        \n",
    "        # tensor inputs\n",
    "        x = np.array([[net.char2int[char]]])\n",
    "        x = one_hot_encode(x, len(net.chars))\n",
    "        inputs = torch.from_numpy(x)\n",
    "        \n",
    "        if(train_on_gpu):\n",
    "            inputs = inputs.cuda()\n",
    "        \n",
    "        # detach hidden state from history\n",
    "        h = tuple([each.data for each in h])\n",
    "        # get the output of the model\n",
    "        out, h = net(inputs, h)\n",
    "\n",
    "        # get the character probabilities\n",
    "        p = F.softmax(out, dim=1).data\n",
    "        if(train_on_gpu):\n",
    "            p = p.cpu() # move to cpu\n",
    "        \n",
    "        # get top characters\n",
    "        if top_k is None:\n",
    "            top_ch = np.arange(len(net.chars))\n",
    "        else:\n",
    "            p, top_ch = p.topk(top_k)\n",
    "            top_ch = top_ch.numpy().squeeze()\n",
    "        \n",
    "        # select the likely next character with some element of randomness\n",
    "        p = p.numpy().squeeze()\n",
    "        char = np.random.choice(top_ch, p=p/p.sum())\n",
    "        \n",
    "        # return the encoded value of the predicted char and the hidden state\n",
    "        return net.int2char[char], h"
   ]
  },
  {
   "cell_type": "markdown",
   "metadata": {},
   "source": [
    "### Priming and generating text \n",
    "\n",
    "Typically you'll want to prime the network so you can build up a hidden state. Otherwise the network will start out generating characters at random. In general the first bunch of characters will be a little rough since it hasn't built up a long history of characters to predict from."
   ]
  },
  {
   "cell_type": "code",
   "execution_count": 19,
   "metadata": {},
   "outputs": [],
   "source": [
    "def sample(net, size, prime='The', top_k=None):\n",
    "        \n",
    "    if(train_on_gpu):\n",
    "        net.cuda()\n",
    "    else:\n",
    "        net.cpu()\n",
    "    \n",
    "    net.eval() # eval mode\n",
    "    \n",
    "    # First off, run through the prime characters\n",
    "    chars = [ch for ch in prime]\n",
    "    h = net.init_hidden(1)\n",
    "    for ch in prime:\n",
    "        char, h = predict(net, ch, h, top_k=top_k)\n",
    "\n",
    "    chars.append(char)\n",
    "    \n",
    "    # Now pass in the previous character and get a new one\n",
    "    for ii in range(size):\n",
    "        char, h = predict(net, chars[-1], h, top_k=top_k)\n",
    "        chars.append(char)\n",
    "\n",
    "    return ''.join(chars)"
   ]
  },
  {
   "cell_type": "code",
   "execution_count": 20,
   "metadata": {},
   "outputs": [
    {
     "name": "stdout",
     "output_type": "stream",
     "text": [
      "Anna.\n",
      "\n",
      "There was no one that had been at that part, so sometom, had a long\n",
      "whole fillingse to see him with the marsh. There was near a face of his\n",
      "wife's acres, who was not thinking of that sinninitary of\n",
      "the firmly tringe to stir the peasants where the colorel second to be\n",
      "asked, the complecet of the continually thought of horse. A shaded and table though he\n",
      "would have always consudeded in these such mistaken in the propises. And she\n",
      "was straight for her than all the princess. He had been tried, as he\n",
      "was attreding that any of her filse was not trunging to this soul, and the\n",
      "princess had been always been transing over the strails in the window and tears.\n",
      "And there was nothing only one of those force, and all the\n",
      "starts was not that the mind a little one transetted on taking her to\n",
      "his whole change of his hands, and heard his sister of the middles\n",
      "of the solether, were significance to talk in spot home, and they so\n",
      "might as always to see him all at this tounched and so as she had been becom\n"
     ]
    }
   ],
   "source": [
    "print(sample(net, 1000, prime='Anna', top_k=5))"
   ]
  },
  {
   "cell_type": "markdown",
   "metadata": {},
   "source": [
    "## Loading a checkpoint"
   ]
  },
  {
   "cell_type": "code",
   "execution_count": 21,
   "metadata": {},
   "outputs": [],
   "source": [
    "# Here we have loaded in a model that trained over 20 epochs `rnn_20_epoch.net`\n",
    "with open('rnn_x_epoch.net', 'rb') as f:\n",
    "    checkpoint = torch.load(f)\n",
    "    \n",
    "loaded = CharRNN(checkpoint['tokens'], n_hidden=checkpoint['n_hidden'], n_layers=checkpoint['n_layers'])\n",
    "loaded.load_state_dict(checkpoint['state_dict'])"
   ]
  },
  {
   "cell_type": "code",
   "execution_count": 22,
   "metadata": {},
   "outputs": [
    {
     "name": "stdout",
     "output_type": "stream",
     "text": [
      "And Levin said\n",
      "her.\n",
      "\n",
      "\"And so to speak to you as still this attraction on a lost. I see\n",
      "that the same son starts on the poon of the way with millions to his\n",
      "best at the truce of ic, and he will be a silence of arms, the\n",
      "subject in the country. He could not come in. They were the moments\n",
      "what he were been so sure that he had never canceed to stand\n",
      "his feet and so much a man of the passion of the change that he\n",
      "could say, and all the same state were in a large contuntest for their confersabity\n",
      "on his hands, but that he came up again to the sound of his happiness, had\n",
      "thinking all the pretemstor and at her husband and her, and a sended fater of\n",
      "his face in the most face of his sisting-hands, the servants of the solation of her\n",
      "sucches.\n",
      "\n",
      "\"Yes, I see him in a more and to be attention,\" said Anna, smiling.\n",
      "\n",
      "\"What is the serene crosses to hear you?\"\n",
      "\n",
      "\"No; If they heard it's a long than of the straight.\"\n",
      "\n",
      "Stepan Arkadyevitch had to be as she felt how he would not be\n",
      "children; that his hands and subject of the princess and the master to conceine\n",
      "happiness, he had not come off himself, was three times, then the matter\n",
      "that heard the second post the candle. The persurist she had been set\n",
      "at orce and subject with her, and she was so trying to stop, and she went\n",
      "up to her. The conversation had anstered to take the same astishing\n",
      "his fingers, and to speak of it the same, and to say, she could not\n",
      "call the catelor, and was taking to be saying the first station, but she\n",
      "did not cries as it was that it was talking, and there was something something,\n",
      "answered in her face to her asten and, were to be assing to her. He's\n",
      "satisficial to the same son that he had taken that shame the\n",
      "contrariest to a sound of the prance. She was too.\n",
      "\n",
      "\"I could not go to him.\"\n",
      "\n",
      "\"You've not been to be different,\" said Anna, and smiling so well, and still the\n",
      "precentical fact that he could soor be see in his hands, and\n",
      "with still look were said:\n",
      "\n",
      "\"Well, to mean with yes and husbands.\"\n",
      "\n",
      "Levin had said that to his way he came\n"
     ]
    }
   ],
   "source": [
    "# Sample using a loaded model\n",
    "print(sample(loaded, 2000, top_k=5, prime=\"And Levin said\"))"
   ]
  },
  {
   "cell_type": "code",
   "execution_count": null,
   "metadata": {},
   "outputs": [],
   "source": []
  }
 ],
 "metadata": {
  "kernelspec": {
   "display_name": "Python 3",
   "language": "python",
   "name": "python3"
  },
  "language_info": {
   "codemirror_mode": {
    "name": "ipython",
    "version": 3
   },
   "file_extension": ".py",
   "mimetype": "text/x-python",
   "name": "python",
   "nbconvert_exporter": "python",
   "pygments_lexer": "ipython3",
   "version": "3.6.8"
  }
 },
 "nbformat": 4,
 "nbformat_minor": 2
}
